{
  "nbformat": 4,
  "nbformat_minor": 0,
  "metadata": {
    "colab": {
      "provenance": []
    },
    "kernelspec": {
      "name": "python3",
      "display_name": "Python 3"
    },
    "language_info": {
      "name": "python"
    }
  },
  "cells": [
    {
      "cell_type": "code",
      "execution_count": 2,
      "metadata": {
        "id": "jfhOb_82bQGA"
      },
      "outputs": [],
      "source": [
        "# Tabla de símbolos predefinidos\n",
        "SYMBOL_TABLE = {\n",
        "    \"SP\": 0, \"LCL\": 1, \"ARG\": 2, \"THIS\": 3, \"THAT\": 4,\n",
        "    \"R0\": 0, \"R1\": 1, \"R2\": 2, \"R3\": 3, \"R4\": 4, \"R5\": 5, \"R6\": 6, \"R7\": 7,\n",
        "    \"R8\": 8, \"R9\": 9, \"R10\": 10, \"R11\": 11, \"R12\": 12, \"R13\": 13, \"R14\": 14, \"R15\": 15,\n",
        "    \"SCREEN\": 16384, \"KBD\": 24576\n",
        "}\n",
        "\n",
        "COMP_TABLE = {\n",
        "    \"0\": \"0101010\", \"1\": \"0111111\", \"-1\": \"0111010\",\n",
        "    \"D\": \"0001100\", \"A\": \"0110000\", \"!D\": \"0001101\", \"!A\": \"0110001\",\n",
        "    \"-D\": \"0001111\", \"-A\": \"0110011\", \"D+1\": \"0011111\", \"A+1\": \"0110111\",\n",
        "    \"D-1\": \"0001110\", \"A-1\": \"0110010\", \"D+A\": \"0000010\", \"D-A\": \"0010011\",\n",
        "    \"A-D\": \"0000111\", \"D&A\": \"0000000\", \"D|A\": \"0010101\"\n",
        "}\n",
        "\n",
        "DEST_TABLE = {\"\": \"000\", \"M\": \"001\", \"D\": \"010\", \"MD\": \"011\", \"A\": \"100\", \"AM\": \"101\", \"AD\": \"110\", \"AMD\": \"111\"}\n",
        "JUMP_TABLE = {\"\": \"000\", \"JGT\": \"001\", \"JEQ\": \"010\", \"JGE\": \"011\", \"JLT\": \"100\", \"JNE\": \"101\", \"JLE\": \"110\", \"JMP\": \"111\"}\n",
        "\n",
        "def translate_a_instruction(instruction):\n",
        "    address = int(instruction[1:])  # Obtener el número detrás de '@'\n",
        "    return f'{address:016b}'  # Retorna en formato binario de 16 bits\n",
        "\n",
        "def translate_c_instruction(instruction):\n",
        "    if '=' in instruction:\n",
        "        dest, comp_jump = instruction.split('=')\n",
        "    else:\n",
        "        dest, comp_jump = '', instruction\n",
        "\n",
        "    if ';' in comp_jump:\n",
        "        comp, jump = comp_jump.split(';')\n",
        "    else:\n",
        "        comp, jump = comp_jump, ''\n",
        "\n",
        "    return f'111{COMP_TABLE[comp]}{DEST_TABLE[dest]}{JUMP_TABLE[jump]}'\n",
        "\n",
        "def assembler(input_file, output_file):\n",
        "    with open(input_file, 'r') as asm_file, open(output_file, 'w') as hack_file:\n",
        "        for line in asm_file:\n",
        "            line = line.split(\"//\")[0].strip()\n",
        "            if not line:  # Ignora líneas vacías\n",
        "                continue\n",
        "\n",
        "            if line.startswith('@'):\n",
        "                binary = translate_a_instruction(line)\n",
        "            else:\n",
        "                binary = translate_c_instruction(line)\n",
        "\n",
        "            hack_file.write(binary + '\\n')\n",
        "\n",
        "# Ruta de los archivos en Colab\n",
        "input_file = \"/content/Add.asm\"  # Cambia esto si tu archivo .asm tiene otro nombre\n",
        "output_file = \"/content/program.hack\"\n",
        "\n",
        "assembler(input_file, output_file)\n"
      ]
    }
  ]
}